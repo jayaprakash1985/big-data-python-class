{
 "cells": [
  {
   "cell_type": "markdown",
   "metadata": {},
   "source": [
    "# Mean Shift"
   ]
  },
  {
   "cell_type": "markdown",
   "metadata": {},
   "source": [
    "Mean shift is a procedure for locating the maxima—the modes—of a density function given discrete data sampled from that function. It is a centroid based algorithm, which works by updating candidates for centroids to be the mean of the points within a given region. These candidates are then filtered in a post-processing stage to eliminate near-duplicates to form the final set of centroids.\n",
    "Given a candidate centroid x_i for iteration t, the candidate is updated according to the following equation:\n",
    "\n",
    "x_i^{t+1} = x_i^t + m(x_i^t)\n",
    "\n",
    "Where N(x_i) is the neighborhood of samples within a given distance around x_i and m is the mean shift vector that is computed for each centroid that points towards a region of the maximum increase in the density of points. This is computed using the following equation, effectively updating a centroid to be the mean of the samples within its neighborhood:\n",
    "\n",
    "m(x_i) = frac{\\sum_{x_j \\in N(x_i)}K(x_j - x_i)x_j}{\\sum_{x_j \\in N(x_i)}K(x_j - x_i)}\n",
    "\n",
    "Although the mean shift algorithm has been widely used in many applications, a rigid proof for the convergence of the algorithm using a general kernel in a high dimensional space is still not known"
   ]
  },
  {
   "cell_type": "markdown",
   "metadata": {},
   "source": [
    "# Data Setup"
   ]
  },
  {
   "cell_type": "markdown",
   "metadata": {},
   "source": [
    "The same data which is taken is DBSCAN clustering algorithm is taken here to check the difference in output.\n",
    "\n",
    "Samples of windspeeds and rainfall are taken as data for the ALgorithm. The first parameter is set as Wind Speed and second parameter is taken as rainfall. Windspeed is in Miles/Hour and Rainfall in Centimeters.\n",
    "\n",
    "Data = [[90,1.2],[85,.9],[60,3.1],[70,2.3],[100,4.2],[120,5.1],[35,6.2],[70,3.4],[45,3.2],[55,4.1],[82,1.3],[90,4.8],[95,6.2] ,[69,3.1],[83,6.2],[85,3.2],[95,4.3],[120,7.2],[110,6.5],[105,5.5]]"
   ]
  },
  {
   "cell_type": "markdown",
   "metadata": {},
   "source": [
    "# Algorithm:"
   ]
  },
  {
   "cell_type": "code",
   "execution_count": 1,
   "metadata": {},
   "outputs": [
    {
     "name": "stdout",
     "output_type": "stream",
     "text": [
      "Automatically created module for IPython interactive environment\n",
      "number of estimated clusters : 5\n"
     ]
    }
   ],
   "source": [
    "print(__doc__)\n",
    "\n",
    "import numpy as np\n",
    "from sklearn.cluster import MeanShift, estimate_bandwidth\n",
    "from sklearn.datasets.samples_generator import make_blobs\n",
    "\n",
    "# #############################################################################\n",
    "# Generate sample data\n",
    "centers = [[90,1.2],[60,3.1],[70,2.3],[100,4.2],[120,5.1],[70,3.4],[45,3.2],[55,4.1],[82,1.3],[90,4.8]\n",
    "             ,[95,6.2],[69,3.1],[85,3.2],[95,4.3],[120,7.2],[110,6.5],[105,5.5],[85,0.9],[35,6.2],[83,6.2]]\n",
    "X, _ = make_blobs(n_samples=10000, centers=centers, cluster_std=0.6)\n",
    "\n",
    "# #############################################################################\n",
    "# Compute clustering with MeanShift\n",
    "\n",
    "# The following bandwidth can be automatically detected using\n",
    "bandwidth = estimate_bandwidth(X, quantile=0.2, n_samples=500)\n",
    "\n",
    "ms = MeanShift(bandwidth=bandwidth, bin_seeding=True)\n",
    "ms.fit(X)\n",
    "labels = ms.labels_\n",
    "cluster_centers = ms.cluster_centers_\n",
    "\n",
    "labels_unique = np.unique(labels)\n",
    "n_clusters_ = len(labels_unique)\n",
    "\n",
    "print(\"number of estimated clusters : %d\" % n_clusters_)\n",
    "\n"
   ]
  },
  {
   "cell_type": "markdown",
   "metadata": {},
   "source": [
    "# Plot result:"
   ]
  },
  {
   "cell_type": "code",
   "execution_count": 2,
   "metadata": {},
   "outputs": [
    {
     "data": {
      "image/png": "[encoded data removed]",
      "text/plain": [
       "<matplotlib.figure.Figure at 0x92d0f70>"
      ]
     },
     "metadata": {},
     "output_type": "display_data"
    }
   ],
   "source": [
    "# Plot result\n",
    "import matplotlib.pyplot as plt\n",
    "from itertools import cycle\n",
    "\n",
    "plt.figure(1)\n",
    "plt.clf()\n",
    "\n",
    "colors = cycle('bgrcmykbgrcmykbgrcmykbgrcmyk')\n",
    "for k, col in zip(range(n_clusters_), colors):\n",
    "    my_members = labels == k\n",
    "    cluster_center = cluster_centers[k]\n",
    "    plt.plot(X[my_members, 0], X[my_members, 1], col + '.')\n",
    "    plt.plot(cluster_center[0], cluster_center[1], 'o', markerfacecolor=col,\n",
    "             markeredgecolor='k', markersize=14)\n",
    "plt.title('Estimated number of clusters: %d' % n_clusters_)\n",
    "plt.show()"
   ]
  },
  {
   "cell_type": "markdown",
   "metadata": {},
   "source": [
    "We can observe for the same inputs the number of clusters and the clustering of the \n",
    "data is entirely different in Mean Shift algorithm as compared to DBSCAN algorithm"
   ]
  },
  {
   "cell_type": "markdown",
   "metadata": {},
   "source": [
    "# Advantages and Disadvantages of mean Shift Algorithm:"
   ]
  },
  {
   "cell_type": "markdown",
   "metadata": {},
   "source": [
    "Advantages:\n",
    "    \n",
    "1)Mean shift is an application-independent tool suitable for real data analysis.\n",
    "\n",
    "2)Does not assume any predefined shape on data clusters.\n",
    "\n",
    "3)It is capable of handling arbitrary feature spaces.\n",
    "\n",
    "4)The procedure relies on choice of a single parameter: bandwidth.\n",
    "\n",
    "Disadvantages:\n",
    "\n",
    "1)The selection of a window size is not trivial.\n",
    "\n",
    "2)Inappropriate window size can cause modes to be merged, or generate additional “shallow” modes.\n",
    "\n",
    "3)Often requires using adaptive window size."
   ]
  },
  {
   "cell_type": "markdown",
   "metadata": {},
   "source": [
    "# Citations and References:"
   ]
  },
  {
   "cell_type": "markdown",
   "metadata": {},
   "source": [
    "https://en.wikipedia.org/wiki/Mean_shift\n",
    "\n",
    "http://scikit-learn.org/stable/modules/clustering.html#mean-shift\n",
    "    \n",
    "http://scikit-learn.org/stable/auto_examples/cluster/plot_mean_shift.html\n",
    "    \n",
    "http://scikit-learn.org/stable/modules/generated/sklearn.cluster.MeanShift.html"
   ]
  },
  {
   "cell_type": "code",
   "execution_count": null,
   "metadata": {
    "collapsed": true
   },
   "outputs": [],
   "source": []
  }
 ],
 "metadata": {
  "kernelspec": {
   "display_name": "Python 2",
   "language": "python",
   "name": "python2"
  },
  "language_info": {
   "codemirror_mode": {
    "name": "ipython",
    "version": 2
   },
   "file_extension": ".py",
   "mimetype": "text/x-python",
   "name": "python",
   "nbconvert_exporter": "python",
   "pygments_lexer": "ipython2",
   "version": "2.7.13"
  }
 },
 "nbformat": 4,
 "nbformat_minor": 2
}
